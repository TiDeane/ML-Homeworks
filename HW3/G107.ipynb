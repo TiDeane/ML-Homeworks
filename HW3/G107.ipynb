{
 "cells": [
  {
   "cell_type": "markdown",
   "metadata": {},
   "source": [
    "# Homework III\n",
    "\n",
    "## II. Programming and critical analysis [8v]\n",
    "\n",
    "Consider the _winequality-red.csv_ dataset (available at the webpage) where the goal is to estimate the quality (sensory appreciation) of a wine based on physicochemical inputs.\n",
    "\n",
    "Using a 80-20 training-test split with a fixed seed (_random_state=0_), you are asked to learn MLP regressors to answer the following questions.\n",
    "\n",
    "Given their stochastic behavior, average the performance of each MLP from 10 runs (for reproducibility consider seeding the MLPs with _random_state_ $\\in$ {1..10})"
   ]
  },
  {
   "cell_type": "markdown",
   "metadata": {},
   "source": [
    "1) [3.5v] Learn a MLP regressor with 2 hidden layers of size 10, rectifier linear unit activation on all nodes, and early stopping with 20% of training data set aside for validation. All remaining parameters (e.g., loss, batch size, regularization term, solver) should be set as default. Plot the distribution of the residues (in absolute value) using a histogram."
   ]
  },
  {
   "cell_type": "code",
   "execution_count": 29,
   "metadata": {},
   "outputs": [
    {
     "data": {
      "image/png": "[encoded data removed]",
      "text/plain": [
       "<Figure size 640x480 with 1 Axes>"
      ]
     },
     "metadata": {},
     "output_type": "display_data"
    }
   ],
   "source": [
    "import numpy as np\n",
    "import pandas as pd\n",
    "from sklearn.model_selection import train_test_split\n",
    "from sklearn.neural_network import MLPRegressor\n",
    "from sklearn.metrics import mean_absolute_error\n",
    "import matplotlib.pyplot as plt\n",
    "\n",
    "# Load the dataset\n",
    "wine_data = pd.read_csv(\"winequality-red.csv\", sep=\";\")\n",
    "\n",
    "# Define features and target variable\n",
    "X = wine_data.drop(\"quality\", axis=1)\n",
    "y = wine_data[\"quality\"]\n",
    "\n",
    "# Initialize variables to store residuals from 10 runs\n",
    "residuals = []\n",
    "\n",
    "# Set the random seeds for reproducibility\n",
    "random_seeds = range(1, 11)\n",
    "\n",
    "# Perform 10 runs\n",
    "for random_seed in random_seeds:\n",
    "    # Split the dataset into training and test sets (80-20 split)\n",
    "    X_train, X_test, y_train, y_test = train_test_split(X, y, test_size=0.2, random_state=0)\n",
    "\n",
    "    # Create and train the MLP regressor\n",
    "    mlp_regressor = MLPRegressor(hidden_layer_sizes=(10, 10), activation='relu', random_state=random_seed,\n",
    "                                early_stopping=True, validation_fraction=0.2)\n",
    "    mlp_regressor.fit(X_train, y_train)\n",
    "\n",
    "    # Predict on the test set\n",
    "    y_pred = mlp_regressor.predict(X_test)\n",
    "\n",
    "    # Calculate residuals\n",
    "    residual = np.abs(y_test - y_pred)\n",
    "    residuals.extend(residual)\n",
    "\n",
    "# Plot the distribution of residuals using a histogram\n",
    "plt.hist(residuals, bins=30, edgecolor='k')\n",
    "plt.xlabel('Residuals (Absolute Value)')\n",
    "plt.ylabel('Frequency')\n",
    "plt.title('Distribution of Residuals')\n",
    "plt.show()"
   ]
  },
  {
   "cell_type": "markdown",
   "metadata": {},
   "source": [
    "2) [1.5v] Since we are in the presence of a _integer regression_ task, a recommended trick is to round and bound estimates. Assess the impact of these operations on the MAE of the MLP learnt in previous question."
   ]
  },
  {
   "cell_type": "code",
   "execution_count": 28,
   "metadata": {},
   "outputs": [
    {
     "name": "stdout",
     "output_type": "stream",
     "text": [
      "Average MAE before rounding and bounding: 0.5097171955009514\n",
      "Average MAE after rounding and bounding: 0.43875000000000003\n"
     ]
    }
   ],
   "source": [
    "import numpy as np\n",
    "import pandas as pd\n",
    "from sklearn.model_selection import train_test_split\n",
    "from sklearn.neural_network import MLPRegressor\n",
    "from sklearn.metrics import mean_absolute_error\n",
    "import matplotlib.pyplot as plt\n",
    "\n",
    "# Load the dataset\n",
    "wine_data = pd.read_csv(\"winequality-red.csv\", sep=\";\")\n",
    "\n",
    "# Define features and target variable\n",
    "X = wine_data.drop(\"quality\", axis=1)\n",
    "y = wine_data[\"quality\"]\n",
    "\n",
    "# Initialize variables to store residuals from 10 runs\n",
    "residuals = []\n",
    "\n",
    "# Set the random seeds for reproducibility\n",
    "random_seeds = range(1, 11)\n",
    "\n",
    "# Initialize variables to store MAE before and after rounding and bounding\n",
    "mae_before = []\n",
    "mae_after = []\n",
    "\n",
    "# Define rounding and bounding function\n",
    "def round_and_bound(predictions):\n",
    "    rounded_predictions = np.round(predictions)\n",
    "    bounded_predictions = np.clip(rounded_predictions, a_min=3, a_max=8)  # Adjust bounds as needed\n",
    "    return bounded_predictions\n",
    "\n",
    "# Perform 10 runs\n",
    "for random_seed in random_seeds:\n",
    "    # Split the dataset into training and test sets (80-20 split)\n",
    "    X_train, X_test, y_train, y_test = train_test_split(X, y, test_size=0.2, random_state=0)\n",
    "\n",
    "    # Create and train the MLP regressor\n",
    "    mlp_regressor = MLPRegressor(hidden_layer_sizes=(10, 10), activation='relu', random_state=random_seed,\n",
    "                                early_stopping=True, validation_fraction=0.2)\n",
    "    mlp_regressor.fit(X_train, y_train)\n",
    "\n",
    "    # Predict on the test set\n",
    "    y_pred = mlp_regressor.predict(X_test)\n",
    "\n",
    "    # Calculate residuals before rounding and bounding\n",
    "    residual_before = np.abs(y_test - y_pred)\n",
    "    mae_before.append(mean_absolute_error(y_test, y_pred))\n",
    "\n",
    "    # Round and bound estimates\n",
    "    y_pred_rounded_and_bounded = round_and_bound(y_pred)\n",
    "\n",
    "    # Calculate residuals after rounding and bounding\n",
    "    residual_after = np.abs(y_test - y_pred_rounded_and_bounded)\n",
    "    mae_after.append(mean_absolute_error(y_test, y_pred_rounded_and_bounded))\n",
    "\n",
    "    # Store residuals\n",
    "    residuals.extend(residual_after)\n",
    "\n",
    "\n",
    "# Calculate and print the average MAE before and after rounding and bounding\n",
    "avg_mae_before = np.mean(mae_before)\n",
    "avg_mae_after = np.mean(mae_after)\n",
    "print(f\"Average MAE before rounding and bounding: {avg_mae_before}\")\n",
    "print(f\"Average MAE after rounding and bounding: {avg_mae_after}\")"
   ]
  },
  {
   "cell_type": "markdown",
   "metadata": {},
   "source": [
    "3) [1.5v] Similarly assess the impact on RMSE from replacing early stopping by a well-defined number of iterations in {20,50,100,200} (where one iteration corresponds to a batch)."
   ]
  },
  {
   "cell_type": "code",
   "execution_count": 27,
   "metadata": {},
   "outputs": [
    {
     "name": "stdout",
     "output_type": "stream",
     "text": [
      "Early Stopping, Average RMSE: 0.6706527958221328\n",
      "Number of Iterations: 20, Average RMSE: 1.4039789509925442\n",
      "Number of Iterations: 50, Average RMSE: 0.7996073631460568\n",
      "Number of Iterations: 100, Average RMSE: 0.6940361469112143\n",
      "Number of Iterations: 200, Average RMSE: 0.6554543932216474\n"
     ]
    }
   ],
   "source": [
    "import numpy as np\n",
    "import pandas as pd\n",
    "from sklearn.model_selection import train_test_split\n",
    "from sklearn.neural_network import MLPRegressor\n",
    "from sklearn.metrics import mean_squared_error\n",
    "import matplotlib.pyplot as plt\n",
    "from math import sqrt\n",
    "\n",
    "# Load the dataset\n",
    "wine_data = pd.read_csv(\"winequality-red.csv\", sep=\";\")\n",
    "\n",
    "# Define features and target variable\n",
    "X = wine_data.drop(\"quality\", axis=1)\n",
    "y = wine_data[\"quality\"]\n",
    "\n",
    "# Initialize variables to store RMSE for different numbers of iterations and for early stopping\n",
    "rmse_values = []\n",
    "\n",
    "# Set the random seeds for reproducibility\n",
    "random_seeds = range(1, 11)\n",
    "\n",
    "# Define different numbers of iterations and early stopping as 1 to include it\n",
    "iterations = [1, 20, 50, 100, 200]\n",
    "\n",
    "# Perform 10 runs for each number of iterations\n",
    "for num_iterations in iterations:\n",
    "    rmse_per_iteration = []  # To store RMSE for each run with the given number of iterations\n",
    "    \n",
    "    for random_seed in random_seeds:\n",
    "        # Split the dataset into training and test sets (80-20 split)\n",
    "        X_train, X_test, y_train, y_test = train_test_split(X, y, test_size=0.2, random_state=0)\n",
    "\n",
    "        if num_iterations == 1:\n",
    "            # Create and train the MLP regressor with early stopping\n",
    "            mlp_regressor = MLPRegressor(hidden_layer_sizes=(10, 10), activation='relu', random_state=random_seed,\n",
    "                                        early_stopping=True, validation_fraction=0.2)\n",
    "        else:\n",
    "            # Create and train the MLP regressor with the specified number of iterations\n",
    "            mlp_regressor = MLPRegressor(hidden_layer_sizes=(10, 10), activation='relu', random_state=random_seed,\n",
    "                                        max_iter=num_iterations, solver='adam')\n",
    "\n",
    "        mlp_regressor.fit(X_train, y_train)\n",
    "\n",
    "        # Predict on the test set\n",
    "        y_pred = mlp_regressor.predict(X_test)\n",
    "\n",
    "        # Calculate RMSE\n",
    "        rmse = sqrt(mean_squared_error(y_test, y_pred))\n",
    "        rmse_per_iteration.append(rmse)\n",
    "\n",
    "    # Calculate the average RMSE for the given number of iterations or early stopping\n",
    "    avg_rmse = np.mean(rmse_per_iteration)\n",
    "    rmse_values.append(avg_rmse)\n",
    "\n",
    "\n",
    "# Print RMSE values for each number of iterations or early stopping\n",
    "for num_iterations, rmse in zip(iterations, rmse_values):\n",
    "    if num_iterations == 1:\n",
    "        print(f\"Early Stopping, Average RMSE: {rmse}\")\n",
    "    else:\n",
    "        print(f\"Number of Iterations: {num_iterations}, Average RMSE: {rmse}\")"
   ]
  },
  {
   "cell_type": "markdown",
   "metadata": {
    "vscode": {
     "languageId": "python"
    }
   },
   "source": [
    "4) [1.5v] Critically comment the results obtained in previous question, hypothesizing at least one reason why early stopping favors and/or worsens performance."
   ]
  },
  {
   "cell_type": "markdown",
   "metadata": {},
   "source": [
    "&nbsp;&nbsp;Com o intuito de tentar melhorar os nossos resultados, podemos utilizar o \"early stopping\". Este método não se baseia num número específico de iterações mas sim no momento em que a performance do modelo começa a baixar. Existem algumas vantagens ao usar early stoppping: reduz a ocorrência de overfitting e pode até economizar algum tempo de treino, se a performance começar a reduzir cedo. No entanto, também existem desvantagens, principalmente o risco de haver um \"stop\" prematuro, causando um problema de underfitting. Assim, ao usarmos early stopping, estaríamos a prevenir o overfitting, porém teríamos de ter em conta os casos de \"stops\" prematuros que iriam causar underfitting (embora que raros) e performances subóptimas. \n",
    "\n",
    "&nbsp;&nbsp;Ao analisar os valores do exercício anterior, em que o RMSE é analisado através de um número fixos de iterações, percebemos que este vai diminuindo com o aumento de iterações. Um ponto importante a referir é que ao calcular o average RMSE com early stopping (dando um valor de 0.6706527958221328) podemos compara-lo com os RMSE de iterações fixas. Vemos que o RMSE do early stopping é menor que todos os outros execto em 200 iterações. Isto quer dizer que nas iteraçoes de 20, 50 e 100 estamos presentes um problema de underfitting, o modelo não teve tempo para convergir. Outra observação que também podemos fazer é em relação aos testing e validation sets provenientes do early stopping. Para além das desvantagens anteriormente apresentadas, o early stopping é sensível à escolha de testing e validation sets. Se o validition set não for suficientemente representativo do testing set o modelo pode sofrer de underfitting ou overfitting. Assim, e assumindo que o número máximo de iterações no early stopping é 200 podemos comparar a performance deste método com o de 200 iterações fixas. Visto que o de 200 iterações fixas é menor podemos concluir que o validation set usado no early stopping é subóptimo, havendo um mais representativo do testing set."
   ]
  }
 ],
 "metadata": {
  "kernelspec": {
   "display_name": "Python 3 (ipykernel)",
   "language": "python",
   "name": "python3"
  },
  "language_info": {
   "codemirror_mode": {
    "name": "ipython",
    "version": 3
   },
   "file_extension": ".py",
   "mimetype": "text/x-python",
   "name": "python",
   "nbconvert_exporter": "python",
   "pygments_lexer": "ipython3",
   "version": "3.10.6"
  }
 },
 "nbformat": 4,
 "nbformat_minor": 4
}
